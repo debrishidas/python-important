{
 "cells": [
  {
   "cell_type": "code",
   "execution_count": null,
   "metadata": {},
   "outputs": [],
   "source": [
    "import pandas as pd\n",
    "from datetime import date, datetime, timedelta\n",
    "import requests\n",
    "from bs4 import BeautifulSoup\n",
    "import pandas as pd\n",
    "from nsepy import get_history\n",
    "from nsepy.derivatives import get_expiry_date\n",
    "from urllib import request\n",
    "import os, sys, pickle"
   ]
  },
  {
   "cell_type": "code",
   "execution_count": null,
   "metadata": {},
   "outputs": [],
   "source": [
    "sys.path.append(os.getcwd()+\"/app\")\n",
    "print(sys.path)"
   ]
  },
  {
   "cell_type": "code",
   "execution_count": null,
   "metadata": {},
   "outputs": [],
   "source": [
    "from utils.webscrapping import MoneyControl, NSE\n",
    "mc = MoneyControl()\n",
    "# Get all urls with sectors\n",
    "sector_url_dict = mc.get_sectors_url_dict()"
   ]
  },
  {
   "cell_type": "code",
   "execution_count": null,
   "metadata": {},
   "outputs": [],
   "source": [
    "# Save this dictionary to pickle file\n",
    "with open(f\"{os.getcwd()}/app/files/sector_url_dict.pickle\", 'wb') as handle:\n",
    "    pickle.dump(sector_url_dict, handle, protocol=pickle.HIGHEST_PROTOCOL)\n",
    "    \n",
    "sector_url_dict"
   ]
  },
  {
   "cell_type": "code",
   "execution_count": null,
   "metadata": {},
   "outputs": [],
   "source": [
    "# Input sub-sectors\n",
    "all_stocks_industry_wise_df = mc.get_industry_wise_list(sector_url_dict)"
   ]
  },
  {
   "cell_type": "code",
   "execution_count": null,
   "metadata": {},
   "outputs": [],
   "source": [
    "all_stocks_industry_wise_df"
   ]
  },
  {
   "cell_type": "code",
   "execution_count": null,
   "metadata": {},
   "outputs": [],
   "source": [
    "# write all_stocks_industry_wise_df to csv\n",
    "all_stocks_industry_wise_df.to_csv(f\"{os.getcwd()}/app/files/all_stocks_industry_wise_df.csv\", index=False, header=True)"
   ]
  },
  {
   "cell_type": "code",
   "execution_count": null,
   "metadata": {},
   "outputs": [],
   "source": [
    "# Get master_company_url_dict_from moneycontrol\n",
    "mc_master_company_url_dict = mc.get_company_master_url_dict()\n",
    "# Save this dictionary to pickle file\n",
    "with open(f\"{os.getcwd()}/app/files/company_url_dict.pickle\", 'wb') as handle:\n",
    "    pickle.dump(mc_master_company_url_dict, handle, protocol=pickle.HIGHEST_PROTOCOL)"
   ]
  },
  {
   "cell_type": "code",
   "execution_count": null,
   "metadata": {},
   "outputs": [],
   "source": [
    " with open(f\"{os.getcwd()}/app/files/company_url_dict.pickle\", 'rb') as handle:\n",
    "            mc_master_company_url_dict = pickle.load(file=handle)\n",
    "\n",
    "# mc_master_company_url_dict"
   ]
  }
 ],
 "metadata": {
  "kernelspec": {
   "display_name": "Python 3 (ipykernel)",
   "language": "python",
   "name": "python3"
  },
  "language_info": {
   "codemirror_mode": {
    "name": "ipython",
    "version": 3
   },
   "file_extension": ".py",
   "mimetype": "text/x-python",
   "name": "python",
   "nbconvert_exporter": "python",
   "pygments_lexer": "ipython3",
   "version": "3.9.10"
  },
  "orig_nbformat": 4
 },
 "nbformat": 4,
 "nbformat_minor": 2
}
